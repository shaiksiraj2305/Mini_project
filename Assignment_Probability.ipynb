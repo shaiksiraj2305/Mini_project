{
 "cells": [
  {
   "cell_type": "code",
   "execution_count": null,
   "id": "ef78b743",
   "metadata": {},
   "outputs": [],
   "source": []
  },
  {
   "cell_type": "markdown",
   "id": "a14b9842",
   "metadata": {},
   "source": [
    "# Probability:\n",
    "a measure of how likely an event is to occur \n",
    "\n",
    "* probability of event = number of favourable output / total output "
   ]
  },
  {
   "cell_type": "code",
   "execution_count": null,
   "id": "eb252cee",
   "metadata": {},
   "outputs": [],
   "source": []
  },
  {
   "cell_type": "markdown",
   "id": "d31e237a",
   "metadata": {},
   "source": [
    "# 1. Write a Python program to simulate the following scenarios:  \n",
    "*  a. Tossing a coin 10,000 times and calculating the experimental probability of heads and tails.  \n",
    "*  b. Rolling two dice and computing the probability of getting a sum of 7.  \n",
    " > Steps  \n",
    "      a. Use Python's random module for simulations.  \n",
    "      b. Implement loops for repeated trials.  \n",
    "      c. Track outcomes and compute probabilities. \n"
   ]
  },
  {
   "cell_type": "code",
   "execution_count": 24,
   "id": "a22a3c7e",
   "metadata": {},
   "outputs": [
    {
     "name": "stdout",
     "output_type": "stream",
     "text": [
      "Enter the number of tosses: 10000\n",
      "After 10000 tosses\n",
      "Probability of Heads: 50.18 %\n",
      "Probability of Tails:49.82 %\n"
     ]
    }
   ],
   "source": [
    "# a. Tossing a coin 10,000 times and calculating the experimental probability of heads and tails.\n",
    "import random\n",
    "def calculate_coin_toss(num_toss):\n",
    "    heads = 0\n",
    "    tails = 0\n",
    "    for _ in range(num_toss):\n",
    "        if random.randint(1,2) == 1:\n",
    "            heads+=1\n",
    "        else:\n",
    "            tails+=1\n",
    "    return heads/num_toss,tails/num_toss\n",
    "    \n",
    "num_toss = int(input(\"Enter the number of tosses: \"))\n",
    "prob_heads,prob_tails = calculate_coin_toss(num_toss)\n",
    "\n",
    "print(f\"After {num_toss} tosses\")\n",
    "print(f\"Probability of Heads: {(prob_heads*100):.2f} %\")\n",
    "print(f\"Probability of Tails:{(prob_tails*100):.2f} %\")"
   ]
  },
  {
   "cell_type": "code",
   "execution_count": null,
   "id": "206e5418",
   "metadata": {},
   "outputs": [],
   "source": []
  },
  {
   "cell_type": "markdown",
   "id": "b9925674",
   "metadata": {},
   "source": [
    "## b. Rolling two dice and computing the probability of getting a sum of 7."
   ]
  },
  {
   "cell_type": "code",
   "execution_count": 28,
   "id": "a9ce02bb",
   "metadata": {},
   "outputs": [
    {
     "name": "stdout",
     "output_type": "stream",
     "text": [
      "Enter the number to roll: 6\n",
      "probability of 7 sum of rolling dice: 16.67 %\n"
     ]
    }
   ],
   "source": [
    "\n",
    "def roll_dice(num_roll):\n",
    "    sum_seven = 0\n",
    "    \n",
    "    for _ in range(num_roll):\n",
    "        die1 = random.randint(1,6)\n",
    "        die2 = random.randint(1,6)\n",
    "        if die1 + die2 == 7:\n",
    "            sum_seven +=1\n",
    "    return sum_seven/num_roll\n",
    "\n",
    "\n",
    "num_roll = int(input(\"Enter the number to roll: \"))\n",
    "result = roll_dice(num_roll)\n",
    "print(f\"probability of 7 sum of rolling dice: {(result*100):.2f} %\")"
   ]
  },
  {
   "cell_type": "code",
   "execution_count": null,
   "id": "18c5d5ea",
   "metadata": {},
   "outputs": [],
   "source": []
  },
  {
   "cell_type": "code",
   "execution_count": null,
   "id": "7eef5a98",
   "metadata": {},
   "outputs": [],
   "source": []
  },
  {
   "cell_type": "markdown",
   "id": "8af566d3",
   "metadata": {},
   "source": [
    "# 2. Write a function to estimate the probability of getting at least one \"6\" in 10 rolls of a fair die.  \n",
    " >  Steps  \n",
    "      a. Simulate rolling a die 10 times using a loop.  \n",
    "      b. Track trials where at least one \"6\" occurs.  \n",
    "      c. Calculate the proportion of successful trials.\n"
   ]
  },
  {
   "cell_type": "code",
   "execution_count": 29,
   "id": "6b38c986",
   "metadata": {},
   "outputs": [
    {
     "name": "stdout",
     "output_type": "stream",
     "text": [
      "Enter numbers of rolls: 10\n",
      "probability of 6 occur in rolls dices :20.00 %\n"
     ]
    }
   ],
   "source": [
    "def roll_six(rolls):\n",
    "    occur_six = 0\n",
    "    for i in range(rolls):\n",
    "        if random.randint(1,6) == 6:\n",
    "            occur_six +=1\n",
    "            \n",
    "    return occur_six /rolls\n",
    "\n",
    "rolls = int(input(\"Enter numbers of rolls: \"))\n",
    "result1 = roll_six(rolls)\n",
    "print(f\"probability of 6 occur in rolls dices :{(result1*100):.2f} %\")"
   ]
  },
  {
   "cell_type": "code",
   "execution_count": null,
   "id": "ff31ba4c",
   "metadata": {},
   "outputs": [],
   "source": []
  },
  {
   "cell_type": "code",
   "execution_count": null,
   "id": "d9b33c99",
   "metadata": {},
   "outputs": [],
   "source": []
  },
  {
   "cell_type": "markdown",
   "id": "c02a73fd",
   "metadata": {},
   "source": [
    "# 3. Conditional Probability:¶\n",
    "The probability of an event happening given that another event has already occured\n",
    "Conditional Probability is used to calcuate Bayes theorem."
   ]
  },
  {
   "cell_type": "markdown",
   "id": "56196b5c",
   "metadata": {},
   "source": [
    "# Bayes Theorem:\n",
    "Uses conditional probability to update beliefs based on new evidence.\n",
    "Bayes theorem reverses conditional probability, allowing us to infer causes from effects"
   ]
  },
  {
   "cell_type": "markdown",
   "id": "42c8f046",
   "metadata": {},
   "source": [
    "* 3. A bag contains 5 red, 7 green, and 8 blue balls. A ball is drawn randomly, its color noted, and it is put back into the bag. If this process is repeated 1000 times, write a Python program to estimate:  \n",
    "  a. The probability of drawing a red ball given that the previous ball was blue.  \n",
    "  b. Verify Bayes' theorem with the simulation results.  \n",
    "\n",
    "\n",
    "Steps  \n",
    "    a. Use random sampling to simulate the process.  \n",
    "    b. Compute conditional probabilities directly from the data. \n"
   ]
  },
  {
   "cell_type": "code",
   "execution_count": 6,
   "id": "43425e9d",
   "metadata": {},
   "outputs": [
    {
     "name": "stdout",
     "output_type": "stream",
     "text": [
      "Estimated P(Red | Previous was Blue): 25.11 %\n",
      "\n",
      "Verifying Bayes' Theorem:\n",
      "Estimated P(Red ∩ Blue): 10.03 %\n",
      "Estimated P(Red | Blue) * P(Blue): 10.03 %\n"
     ]
    }
   ],
   "source": [
    "import random\n",
    "\n",
    "def simulate_ball_draws(num_draws):\n",
    "\n",
    "    bag = ['red'] * 5 + ['green'] * 7 + ['blue'] * 8\n",
    "    total_balls = len(bag)\n",
    "\n",
    "    red_given_blue_count = 0\n",
    "    blue_count = 0\n",
    "    red_count = 0 \n",
    "    red_and_blue_count = 0\n",
    "\n",
    "    previous_ball = None\n",
    "\n",
    "    for _ in range(num_draws):\n",
    "        ball = random.choice(bag)\n",
    "\n",
    "        if previous_ball == 'blue':\n",
    "            blue_count += 1\n",
    "            if ball == 'red':\n",
    "                red_given_blue_count += 1\n",
    "            \n",
    "            \n",
    "        if ball == 'red':\n",
    "            red_count += 1\n",
    "\n",
    "        if previous_ball == 'blue' and ball == 'red':\n",
    "            red_and_blue_count += 1\n",
    "\n",
    "        previous_ball = ball\n",
    "\n",
    "    # Estimate P(Red | Previous was Blue)\n",
    "    p_red_given_blue = red_given_blue_count / blue_count if blue_count > 0 else 0\n",
    "\n",
    "    #Estimates to verify Bayes theorem\n",
    "\n",
    "    p_red_and_blue = red_and_blue_count/num_draws\n",
    "    p_blue = blue_count/num_draws\n",
    "    p_red = red_count/num_draws\n",
    "\n",
    "    return p_red_given_blue, p_red_and_blue, p_blue, p_red\n",
    "\n",
    "\n",
    "# Simulation parameters\n",
    "num_draws = 10000#int(input(\"enter the draws: \"))\n",
    "\n",
    "# Run simulation and get results\n",
    "p_red_given_blue, p_red_and_blue, p_blue, p_red = simulate_ball_draws(num_draws)\n",
    "\n",
    "\n",
    "# Print estimated conditional probability\n",
    "print(f\"Estimated P(Red | Previous was Blue): {(p_red_given_blue*100):.2f} %\")\n",
    "\n",
    "estimated_p_red_given_blue_times_p_blue = p_red_given_blue * p_blue\n",
    "\n",
    "print(\"\\nVerifying Bayes' Theorem:\")\n",
    "print(f\"Estimated P(Red ∩ Blue): {(p_red_and_blue*100):.2f} %\")\n",
    "print(f\"Estimated P(Red | Blue) * P(Blue): {(estimated_p_red_given_blue_times_p_blue*100):.2f} %\")"
   ]
  },
  {
   "cell_type": "code",
   "execution_count": null,
   "id": "355fec8a",
   "metadata": {},
   "outputs": [],
   "source": []
  },
  {
   "cell_type": "code",
   "execution_count": null,
   "id": "f1a7a19e",
   "metadata": {},
   "outputs": [],
   "source": []
  },
  {
   "cell_type": "markdown",
   "id": "98475560",
   "metadata": {},
   "source": [
    "# 4.Random Variables and Discrete Probability:"
   ]
  },
  {
   "cell_type": "markdown",
   "id": "f2192034",
   "metadata": {},
   "source": [
    "## Random Variables:\n",
    "* A random variable is a numerical outcome of a random event. It assigns a number to each possible outcome of an experiment.\n",
    "\n",
    "## Discrete Probability:\n",
    "* Discrete Probability distribution-> Used for discrete variables(e.g. Binomial , distribution.) A discrete probability distribution assigns probabilities to each possible value of a discrete random variable.\n",
    "\n",
    "## Mean , Variance, and Standard Deviation:\n",
    "* Mean:\n",
    "The mean (average) is the central value of a dataset. \n",
    ">e.g -> If students's test scores are (80,85,90,95,100). x = 80+85+90+95+100 / 5 = 90\n",
    "* Variance :\n",
    "Variance measures how spread out the values are from the mean.\n",
    ">var(x) = 50 -> (80-90)^2 like this every value divided by 5\n",
    "  High variance -> Data is spread out. ** Low variance -> Data is closer to the mean\n",
    "\n",
    "* Standard Deviation:\n",
    "The standart deviation is the square root of variance and measures how much data deviates from the mean.\n",
    "\n",
    ">sigma = square of var(x)\n",
    "Small sigma -> Data is close to the mean.\n",
    "Large sigma -> Data is widely spread."
   ]
  },
  {
   "cell_type": "markdown",
   "id": "90f0bb79",
   "metadata": {},
   "source": [
    "* 4. Generate a sample of size 1000 from a discrete random variable with the following distribution:  \n",
    " - P(X=1) = 0.25  \n",
    " - P(X=2) = 0.35  \n",
    " - P(X=3) = 0.4  \n",
    " > Compute the empirical mean, variance, and standard deviation of the sample.  \n",
    "   Steps:\n",
    "  > - a. Use numpy.random.choice() to generate the sample.  \n",
    "  > -  b. Use numpy methods to calculate mean, variance, and standard deviation.\n"
   ]
  },
  {
   "cell_type": "code",
   "execution_count": 1,
   "id": "e6f60e92",
   "metadata": {},
   "outputs": [
    {
     "name": "stdout",
     "output_type": "stream",
     "text": [
      "Empirical Mean: 2.17\n",
      "Empirical Variance: 0.61\n",
      "Empirical Standard Deviation: 0.78\n"
     ]
    }
   ],
   "source": [
    "import numpy as np\n",
    "\n",
    "# Define the possible values and their probabilities\n",
    "values = [1, 2, 3]\n",
    "probabilities = [0.25, 0.35, 0.40]\n",
    "\n",
    "# Generate a sample of size 1000\n",
    "sample_size = 1000\n",
    "sample = np.random.choice(values, size=sample_size, p=probabilities)\n",
    "\n",
    "# Compute the empirical mean\n",
    "mean_empirical = np.mean(sample)\n",
    "\n",
    "# Compute the empirical variance\n",
    "variance_empirical = np.var(sample, ddof=0)  # Population variance (ddof=0) Degree of Freedom\n",
    "\n",
    "# Compute the empirical standard deviation\n",
    "std_dev_empirical = np.std(sample, ddof=0)  # Population std deviation (ddof=0)\n",
    "\n",
    "# Print the results\n",
    "print(f\"Empirical Mean: {mean_empirical:.2f}\")\n",
    "print(f\"Empirical Variance: {variance_empirical:.2f}\")\n",
    "print(f\"Empirical Standard Deviation: {std_dev_empirical:.2f}\")\n"
   ]
  },
  {
   "cell_type": "code",
   "execution_count": null,
   "id": "831f5b0b",
   "metadata": {},
   "outputs": [],
   "source": []
  },
  {
   "cell_type": "code",
   "execution_count": null,
   "id": "acefc0d3",
   "metadata": {},
   "outputs": [],
   "source": []
  },
  {
   "cell_type": "code",
   "execution_count": null,
   "id": "14adc173",
   "metadata": {},
   "outputs": [],
   "source": []
  },
  {
   "cell_type": "markdown",
   "id": "d2f2798b",
   "metadata": {},
   "source": [
    "# 5.Continuous Random Variables:\n",
    "* Continous Random Variable -> Takes an infinite number of values within a range. e.g-> Height of students -> Can be any real number like 5.4ft,5.6ft,etc.(Continuous)\n",
    "* Used for continous variables(e.g., Normal Distribution)\n",
    "\n",
    "## Exponential Distribution:\n",
    "### Purpose:\n",
    "* Models the time between events in a Poisson process (e.g., time between arrivals of customers).\n",
    "\n",
    "* Applied in survival analysis and reliability engineering."
   ]
  },
  {
   "cell_type": "markdown",
   "id": "00d78989",
   "metadata": {},
   "source": [
    "* 5. Simulate 2000 random samples from an exponential distribution with a mean of 5. Visualize the distribution using:  \n",
    "  a. A histogram.  \n",
    "  b. A probability density function (PDF) overlay.  \n",
    " > Steps  \n",
    "      a. Use numpy.random.exponential().  \n",
    "      b. Use matplotlib to create visualizations.\n"
   ]
  },
  {
   "cell_type": "code",
   "execution_count": 2,
   "id": "324fcc54",
   "metadata": {},
   "outputs": [
    {
     "data": {
      "image/png": "[encoded data removed]",
      "text/plain": [
       "<Figure size 640x480 with 1 Axes>"
      ]
     },
     "metadata": {},
     "output_type": "display_data"
    }
   ],
   "source": [
    "import numpy as np\n",
    "import seaborn as sns\n",
    "import matplotlib.pyplot as plt\n",
    "from scipy.stats import expon\n",
    "\n",
    "# Parameters\n",
    "mean = 5\n",
    "lambda_param = 1 / mean\n",
    "\n",
    "# Step 1: Simulate 2000 random samples from an exponential distribution\n",
    "samples = np.random.exponential(scale=mean, size=2000)\n",
    "\n",
    "# Step 2: Plot the histogram\n",
    "sns.histplot(samples, bins=30, kde=False, stat=\"density\", label=\"Histogram\", color='blue')\n",
    "\n",
    "# Step 3: Calculate the PDF and overlay it\n",
    "x_values = np.linspace(0, max(samples), 1000)\n",
    "pdf_values = expon.pdf(x_values, scale=mean)\n",
    "plt.plot(x_values, pdf_values, label='PDF', color='red')\n",
    "\n",
    "# Customizing the plot\n",
    "plt.title(\"Exponential Distribution (Mean = 5)\")\n",
    "plt.xlabel(\"Value\")\n",
    "plt.ylabel(\"Density\")\n",
    "plt.legend()\n",
    "plt.show()"
   ]
  },
  {
   "cell_type": "code",
   "execution_count": null,
   "id": "678831bc",
   "metadata": {},
   "outputs": [],
   "source": []
  },
  {
   "cell_type": "code",
   "execution_count": null,
   "id": "1532630d",
   "metadata": {},
   "outputs": [],
   "source": []
  },
  {
   "cell_type": "code",
   "execution_count": null,
   "id": "08454a29",
   "metadata": {},
   "outputs": [],
   "source": []
  },
  {
   "cell_type": "markdown",
   "id": "68153f13",
   "metadata": {},
   "source": [
    "# 6.Central Limit Theorem:\n",
    "* The Central Limit Theorem states that when you take many random samples, the distribution of their sample means will approach a normal distribution regardless of the original data distribution regardless of the original data distribution.\n",
    "\n",
    ">- Example:\n",
    " if you measure the heights of 30 randomly selected people multiple times, the distribution of sample means will be approximately normal, even if the individual heights are not normally distributed.\n",
    " \n",
    " \n",
    " # Unifrom Distribution:\n",
    "## Purpose:\n",
    "* Used in scenarios where each outcome is equally likely.\n",
    "\n",
    "* Often used for generating random numbers and in simulations."
   ]
  },
  {
   "cell_type": "markdown",
   "id": "b09ff417",
   "metadata": {},
   "source": [
    " * 6. Simulate the Central Limit Theorem by following these steps  \n",
    "  a. Generate 10,000 random numbers from a uniform distribution.  \n",
    "  b. Draw 1000 samples of size n = 30.  \n",
    "  c. Calculate and visualize the distribution of sample means.  \n",
    "  >* Steps  \n",
    "      a. Use numpy.random.uniform().  \n",
    "      b. Plot both the uniform distribution and the sample mean distribution for comparison.\n"
   ]
  },
  {
   "cell_type": "code",
   "execution_count": 3,
   "id": "04777395",
   "metadata": {},
   "outputs": [
    {
     "data": {
      "image/png": "[encoded data removed]",
      "text/plain": [
       "<Figure size 640x480 with 1 Axes>"
      ]
     },
     "metadata": {},
     "output_type": "display_data"
    }
   ],
   "source": [
    "import numpy as np\n",
    "import seaborn as sns\n",
    "import matplotlib.pyplot as plt\n",
    "\n",
    "# Step a: Generate 10,000 random numbers from a uniform distribution\n",
    "uniform_data = np.random.uniform(low=0, high=1, size=10000)\n",
    "\n",
    "# Step b: Draw 1000 samples of size n = 30 and calculate the sample means\n",
    "sample_size = 30\n",
    "num_samples = 1000\n",
    "sample_means = []\n",
    "\n",
    "for _ in range(num_samples):\n",
    "    sample = np.random.choice(uniform_data, size=sample_size, replace=False)\n",
    "    sample_mean = np.mean(sample)\n",
    "    sample_means.append(sample_mean)\n",
    "\n",
    "# Step c: Visualize the distribution of sample means\n",
    "sns.histplot(sample_means, bins=30, kde=True)\n",
    "plt.title(\"Distribution of Sample Means (Central Limit Theorem)\")\n",
    "plt.xlabel(\"Sample Mean\")\n",
    "plt.ylabel(\"Frequency\")\n",
    "plt.show()"
   ]
  },
  {
   "cell_type": "code",
   "execution_count": null,
   "id": "4e878303",
   "metadata": {},
   "outputs": [],
   "source": []
  },
  {
   "cell_type": "code",
   "execution_count": null,
   "id": "be7edcb2",
   "metadata": {},
   "outputs": [],
   "source": []
  },
  {
   "cell_type": "code",
   "execution_count": null,
   "id": "def8bb6b",
   "metadata": {},
   "outputs": [],
   "source": []
  }
 ],
 "metadata": {
  "kernelspec": {
   "display_name": "Python 3 (ipykernel)",
   "language": "python",
   "name": "python3"
  },
  "language_info": {
   "codemirror_mode": {
    "name": "ipython",
    "version": 3
   },
   "file_extension": ".py",
   "mimetype": "text/x-python",
   "name": "python",
   "nbconvert_exporter": "python",
   "pygments_lexer": "ipython3",
   "version": "3.11.5"
  }
 },
 "nbformat": 4,
 "nbformat_minor": 5
}
